{
 "cells": [
  {
   "cell_type": "markdown",
   "metadata": {},
   "source": [
    "# Linear Regression Guided Project\n",
    "\n",
    "**`FCAI-CU-Community:`**\n",
    "- [Discord](https://discord.gg/UGpXXsQ2qw)\n",
    "- [GitHub](https://github.com/FCAI-CU-AI-Community)\n",
    "- [YouTube](https://youtube.com/@fcai-cu-ai-community?si=qaeEzzDrOnrZpeph)\n"
   ]
  },
  {
   "cell_type": "markdown",
   "metadata": {},
   "source": [
    "# Outline:\n",
    "\n",
    "- [Introduction](#id1)\n",
    "- [Problem Statement](#id2)\n",
    "- [Setting up the Environment](#id3)\n",
    "- [Data](#id4)\n",
    "- [Exploratory Data Analysis (EDA)](#id5)\n",
    "- [Data Preprocessing](#id6)\n",
    "- [Modeling](#id7)\n",
    "- [Testing](#id8)\n",
    "- [Evaluation](#id9)\n",
    "- [Revisiting](#id10)\n",
    "- [Submission](#id11)"
   ]
  },
  {
   "cell_type": "markdown",
   "metadata": {},
   "source": [
    "## <a id=\"id1\">Introduction</a>"
   ]
  },
  {
   "cell_type": "markdown",
   "metadata": {},
   "source": [
    "In this guided project, we will use the `Linear Regression` algorithm to predict the `Student's Performance` based on some features."
   ]
  },
  {
   "cell_type": "markdown",
   "metadata": {},
   "source": [
    "## <a id=\"id2\">Problem Statement</a>"
   ]
  },
  {
   "cell_type": "markdown",
   "metadata": {},
   "source": [
    "**Why do some students perform better than others?** This question is crucial for educators and policymakers seeking to improve educational outcomes. By analyzing student performance data, we can identify factors influencing academic success and develop targeted interventions to support students at risk of falling behind.\n",
    "\n",
    "### Details:\n",
    "- **Objective**: Develop a regression model to estimate final scores.\n",
    "- **Use Case**: Assist in identifying factors influencing student outcomes, potentially aiding targeted educational interventions.\n",
    "- **Target Variable**: Performance Index."
   ]
  },
  {
   "cell_type": "markdown",
   "metadata": {},
   "source": [
    "## <a id=\"id3\">Setting up the Environment</a>"
   ]
  },
  {
   "cell_type": "markdown",
   "metadata": {},
   "source": [
    "### 1. Import some required libraries (NumPy, Pandas, Matplotlib, Seaborn)."
   ]
  },
  {
   "cell_type": "code",
   "execution_count": 288,
   "metadata": {},
   "outputs": [],
   "source": [
    "# Write your code here\n",
    "\n",
    "\n",
    "\n"
   ]
  },
  {
   "cell_type": "markdown",
   "metadata": {},
   "source": [
    "## <a id=\"id4\">Data</a>"
   ]
  },
  {
   "cell_type": "markdown",
   "metadata": {},
   "source": [
    "### 1. Loading and Exploring the Data."
   ]
  },
  {
   "cell_type": "markdown",
   "metadata": {},
   "source": [
    "#### 1.1. Read the data card from here: https://www.kaggle.com/datasets/nikhil7280/student-performance-multiple-linear-regression/data"
   ]
  },
  {
   "cell_type": "markdown",
   "metadata": {},
   "source": [
    "#### 1.2. Load and view the data."
   ]
  },
  {
   "cell_type": "code",
   "execution_count": 289,
   "metadata": {},
   "outputs": [],
   "source": [
    "# Load the data\n",
    "\n",
    "\n",
    "# View the first few rows of the data\n"
   ]
  },
  {
   "cell_type": "markdown",
   "metadata": {},
   "source": [
    "#### 1.3. How many rows and columns are there in the data?"
   ]
  },
  {
   "cell_type": "code",
   "execution_count": 290,
   "metadata": {},
   "outputs": [],
   "source": [
    "# print the shape of the data\n"
   ]
  },
  {
   "cell_type": "markdown",
   "metadata": {},
   "source": [
    "#### 1.4. What are the columns in the data?"
   ]
  },
  {
   "cell_type": "code",
   "execution_count": 291,
   "metadata": {},
   "outputs": [],
   "source": [
    "# print the columns of the data\n"
   ]
  },
  {
   "cell_type": "markdown",
   "metadata": {},
   "source": [
    "#### 1.5. What are the data types of the columns, the memory usage of the data and the number of non-null values in the columns?"
   ]
  },
  {
   "cell_type": "code",
   "execution_count": 292,
   "metadata": {},
   "outputs": [],
   "source": [
    "# print the data information\n"
   ]
  },
  {
   "cell_type": "markdown",
   "metadata": {},
   "source": [
    "## <a id=\"id5\">Exploratory Data Analysis (EDA)</a>"
   ]
  },
  {
   "cell_type": "markdown",
   "metadata": {},
   "source": [
    "#### 2.1. Check for missing values."
   ]
  },
  {
   "cell_type": "code",
   "execution_count": 293,
   "metadata": {},
   "outputs": [],
   "source": [
    "# print the null count for each column\n"
   ]
  },
  {
   "cell_type": "code",
   "execution_count": 294,
   "metadata": {},
   "outputs": [],
   "source": [
    "# print the null count for all the data\n"
   ]
  },
  {
   "cell_type": "markdown",
   "metadata": {},
   "source": [
    "#### 2.2. print the statistical summary of the data."
   ]
  },
  {
   "cell_type": "code",
   "execution_count": 295,
   "metadata": {},
   "outputs": [],
   "source": [
    "# describe the data\n"
   ]
  },
  {
   "cell_type": "markdown",
   "metadata": {},
   "source": [
    "Warm-up: Can you figure out if there is any outliers in the data?\n",
    "\n",
    "*hint: Look at the mean and median values of the columns.*"
   ]
  },
  {
   "cell_type": "code",
   "execution_count": 296,
   "metadata": {},
   "outputs": [],
   "source": [
    "# describe the categorical features\n"
   ]
  },
  {
   "cell_type": "code",
   "execution_count": 297,
   "metadata": {},
   "outputs": [],
   "source": [
    "# Plot a histogram for the categorical features\n"
   ]
  },
  {
   "cell_type": "markdown",
   "metadata": {},
   "source": [
    "#### 2.3. Plot the boxplot of each column."
   ]
  },
  {
   "cell_type": "code",
   "execution_count": 298,
   "metadata": {},
   "outputs": [],
   "source": [
    "# set the figure size to (10, 5)\n",
    "\n",
    "# Set the figure title to 'Boxplot of Student Performance Data'\n",
    "\n",
    "# create a boxplot of the data (use sns)\n",
    "\n",
    "# show the plot\n"
   ]
  },
  {
   "cell_type": "markdown",
   "metadata": {},
   "source": [
    "#### 2.4. Target Feature Analysis."
   ]
  },
  {
   "cell_type": "code",
   "execution_count": 299,
   "metadata": {},
   "outputs": [],
   "source": [
    "# Describe the target variable\n"
   ]
  },
  {
   "cell_type": "markdown",
   "metadata": {},
   "source": [
    "Questions:\n",
    "- What is the range of values for the target feature?\n",
    "- What is the mean and median of the target feature?"
   ]
  },
  {
   "cell_type": "code",
   "execution_count": 300,
   "metadata": {},
   "outputs": [],
   "source": [
    "# Plot the distribution of the target variable with kernel density estimation\n"
   ]
  },
  {
   "cell_type": "markdown",
   "metadata": {},
   "source": [
    "Questions:\n",
    "- Is the target feature normally distributed?"
   ]
  },
  {
   "cell_type": "code",
   "execution_count": 301,
   "metadata": {},
   "outputs": [],
   "source": [
    "# Plot the boxplot of the target variable\n"
   ]
  },
  {
   "cell_type": "markdown",
   "metadata": {},
   "source": [
    "Questions:\n",
    "- Ar there any outliers in the target feature?"
   ]
  },
  {
   "cell_type": "markdown",
   "metadata": {},
   "source": [
    "#### 2.5. Numerical Analysis. (Discrete Features)"
   ]
  },
  {
   "cell_type": "code",
   "execution_count": 302,
   "metadata": {},
   "outputs": [],
   "source": [
    "# select the numerical data\n",
    "\n",
    "\n",
    "# print the first few rows of the numerical data\n"
   ]
  },
  {
   "cell_type": "code",
   "execution_count": 303,
   "metadata": {},
   "outputs": [],
   "source": [
    "# select the discrete numerical data (having less than 11 unique values)\n",
    "\n",
    "\n",
    "\n",
    "# print the first few rows of the discrete data\n"
   ]
  },
  {
   "cell_type": "code",
   "execution_count": 304,
   "metadata": {},
   "outputs": [],
   "source": [
    "# Print the unique values of the discrete data\n",
    "\n"
   ]
  },
  {
   "cell_type": "code",
   "execution_count": 305,
   "metadata": {},
   "outputs": [],
   "source": [
    "# Visualize Discrete Features with their average Performance Index\n",
    "\n",
    "# 1. Create a subplot with the appropriate rows and columns with a figure size of (15, 5)\n",
    "\n",
    "\n",
    "# 2. Set the figure title to 'Average Performance Index by Discrete Features'\n",
    "# 3. For each subplot, select the subplot, add an appropriate title (Avg Performance Index vs. ...) and create a barplot of the feature (use sns)\n",
    "\n",
    "# 4. Show the plot\n"
   ]
  },
  {
   "cell_type": "markdown",
   "metadata": {},
   "source": [
    "Questions:\n",
    "- What is the relationship between the target and each of the discrete numerical features?\n",
    "- Which feature do you think has the most impact on the target feature?\n",
    "- Which feature do you think has the least impact on the target feature (Can be removed)?\n",
    "- Does the students who sleep more hours perform better?\n",
    "- Does the students who study more hours perform better?\n",
    "- Does the students who practiced more questions perform better?"
   ]
  },
  {
   "cell_type": "code",
   "execution_count": 306,
   "metadata": {},
   "outputs": [],
   "source": [
    "# Remove the features that having the least impact on the target variable\n",
    "\n"
   ]
  },
  {
   "cell_type": "markdown",
   "metadata": {},
   "source": [
    "#### 2.6. Numerical Analysis. (Continuous Features)"
   ]
  },
  {
   "cell_type": "code",
   "execution_count": 307,
   "metadata": {},
   "outputs": [],
   "source": [
    "# Select the continuous numerical data\n",
    "\n",
    "\n",
    "\n",
    "\n",
    "# Print the first few rows of the continuous data\n"
   ]
  },
  {
   "cell_type": "code",
   "execution_count": 308,
   "metadata": {},
   "outputs": [],
   "source": [
    "# Plot a scatter for each feature against the other features (pairplot)\n",
    "\n",
    "\n",
    "# show the plot\n"
   ]
  },
  {
   "cell_type": "code",
   "execution_count": 309,
   "metadata": {},
   "outputs": [],
   "source": [
    "# Plot the correlation matrix of the continuous data\n",
    "\n",
    "\n",
    "\n",
    "# show the plot\n"
   ]
  },
  {
   "cell_type": "markdown",
   "metadata": {},
   "source": [
    "Questions:\n",
    "- What is the relationship between the target and each of the continues numerical features?\n",
    "- Which feature do you think has the most impact on the target feature?\n",
    "- Which feature do you think has the least impact on the target feature (Can be removed)?\n",
    "- Does the previous score of the student affect the performance index? Is it increasing or decreasing?"
   ]
  },
  {
   "cell_type": "markdown",
   "metadata": {},
   "source": [
    "#### 2.7. Categorical Analysis."
   ]
  },
  {
   "cell_type": "code",
   "execution_count": 310,
   "metadata": {},
   "outputs": [],
   "source": [
    "# select the categorical data\n",
    "\n",
    "\n",
    "# Merge the categorical data with the target variable\n",
    "\n",
    "\n",
    "# print the first few rows of the categorical data\n"
   ]
  },
  {
   "cell_type": "code",
   "execution_count": 311,
   "metadata": {},
   "outputs": [],
   "source": [
    "# Plot box plots of the categorical data against the target variable\n",
    "\n",
    "\n",
    "# show the plot\n"
   ]
  },
  {
   "cell_type": "markdown",
   "metadata": {},
   "source": [
    "Questions:\n",
    "- What is the relationship between the target and each of the categorical features?\n",
    "- Does the students that do an extracurricular activity perform better than those who don't?"
   ]
  },
  {
   "cell_type": "markdown",
   "metadata": {},
   "source": [
    "## <a id=\"id6\">Data Preprocessing</a>"
   ]
  },
  {
   "cell_type": "code",
   "execution_count": 312,
   "metadata": {},
   "outputs": [],
   "source": [
    "# Convert the categorical data to numerical data using one-hot encoding\n",
    "\n",
    "\n",
    "# print the first few rows of the data\n"
   ]
  },
  {
   "cell_type": "markdown",
   "metadata": {},
   "source": [
    "## <a id=\"id7\">Modeling</a>"
   ]
  },
  {
   "cell_type": "markdown",
   "metadata": {},
   "source": [
    "### 1. Splitting the data."
   ]
  },
  {
   "cell_type": "markdown",
   "metadata": {},
   "source": [
    "#### 1.1. Split the data into features and target."
   ]
  },
  {
   "cell_type": "code",
   "execution_count": 313,
   "metadata": {},
   "outputs": [],
   "source": [
    "# Select the features and put them in X\n",
    "\n",
    "# Select the target variable and put it in y\n",
    "\n"
   ]
  },
  {
   "cell_type": "markdown",
   "metadata": {},
   "source": [
    "#### 1.2. Split the data into training and testing sets."
   ]
  },
  {
   "cell_type": "code",
   "execution_count": 314,
   "metadata": {},
   "outputs": [],
   "source": [
    "# import the train_test_split function from sklearn\n",
    "\n",
    "\n",
    "# Set the random state to 42\n",
    "\n",
    "# Set the test size to 0.2\n",
    "\n",
    "\n",
    "# Split the data into training and testing sets\n",
    "\n",
    "\n",
    "# Print the shape of the training and testing sets\n",
    "\n"
   ]
  },
  {
   "cell_type": "markdown",
   "metadata": {},
   "source": [
    "### 2. Building and Training the Model."
   ]
  },
  {
   "cell_type": "code",
   "execution_count": 315,
   "metadata": {},
   "outputs": [],
   "source": [
    "# import the linear regression model from sklearn\n",
    "\n",
    "\n",
    "# Create an instance of the Linear Regression model\n",
    "\n",
    "\n",
    "# Train the model on the training data\n"
   ]
  },
  {
   "cell_type": "code",
   "execution_count": 316,
   "metadata": {},
   "outputs": [],
   "source": [
    "# Print the model parameters\n",
    "\n"
   ]
  },
  {
   "cell_type": "code",
   "execution_count": 317,
   "metadata": {},
   "outputs": [],
   "source": [
    "# print the model score (R^2) on the training data\n"
   ]
  },
  {
   "cell_type": "markdown",
   "metadata": {},
   "source": [
    "# <a id=\"id8\">Testing</a>"
   ]
  },
  {
   "cell_type": "code",
   "execution_count": 318,
   "metadata": {},
   "outputs": [],
   "source": [
    "# Predict the target variable on the testing data\n",
    "\n",
    "\n",
    "# print the first few predictions\n",
    "\n",
    "\n",
    "# print the first few actual values\n"
   ]
  },
  {
   "cell_type": "markdown",
   "metadata": {},
   "source": [
    "## <a id=\"id9\">Evaluation</a>"
   ]
  },
  {
   "cell_type": "code",
   "execution_count": 319,
   "metadata": {},
   "outputs": [],
   "source": [
    "# import the mean squared error function from sklearn\n",
    "\n",
    "\n",
    "# Calculate the mean squared error of the model\n",
    "\n",
    "\n",
    "# print the mean squared error\n"
   ]
  },
  {
   "cell_type": "code",
   "execution_count": 320,
   "metadata": {},
   "outputs": [],
   "source": [
    "# import the r2_score function from sklearn\n",
    "\n",
    "\n",
    "# Calculate the R^2 score of the model\n",
    "\n",
    "\n",
    "# print the R^2 score as a percentage\n"
   ]
  },
  {
   "cell_type": "markdown",
   "metadata": {},
   "source": [
    "## <a id=\"id10\">Revisiting</a>\n",
    "\n",
    "Try training the model with all the features and see if the performance of the model changes *significantly*."
   ]
  },
  {
   "cell_type": "markdown",
   "metadata": {},
   "source": [
    "## <a id=\"id11\">Submission</a>"
   ]
  },
  {
   "cell_type": "markdown",
   "metadata": {},
   "source": [
    "1. Go to the code section of the data set and click on the `New Notebook` button.\n",
    "2. Click on the `File` tab in the top left corner of the notebook.\n",
    "3. Click import notebook.\n",
    "4. Upload the notebook file.\n",
    "5. Click on the `Save Version` button then click on the `Save` button.\n",
    "6. Wait for the notebook to be saved and then click on the `Show Version` button (number beside the `Save Version` button).\n",
    "7. Click on the `Go to Viewer` button.\n",
    "8. Click on Share, Choose `public`.\n",
    "9. Copy the link and paste it in `task-submission` channel.\n",
    "10. You are done! 🎉\n"
   ]
  }
 ],
 "metadata": {
  "kernelspec": {
   "display_name": "ml-env",
   "language": "python",
   "name": "python3"
  },
  "language_info": {
   "codemirror_mode": {
    "name": "ipython",
    "version": 3
   },
   "file_extension": ".py",
   "mimetype": "text/x-python",
   "name": "python",
   "nbconvert_exporter": "python",
   "pygments_lexer": "ipython3",
   "version": "3.11.9"
  }
 },
 "nbformat": 4,
 "nbformat_minor": 2
}
